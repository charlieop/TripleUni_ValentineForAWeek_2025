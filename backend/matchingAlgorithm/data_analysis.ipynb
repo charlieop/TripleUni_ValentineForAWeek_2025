{
 "cells": [
  {
   "cell_type": "code",
   "execution_count": 1,
   "metadata": {},
   "outputs": [],
   "source": [
    "import sqlite3\n",
    "MYSQL_DB_PATH = \"./db.sqlite3\"\n",
    "\n",
    "db = sqlite3.connect(MYSQL_DB_PATH)\n",
    "cursor = db.cursor()\n",
    "cursor.execute(\"SELECT * FROM applicant\")\n",
    "datas = cursor.fetchall()\n",
    "columns = [description[0] for description in cursor.description]"
   ]
  },
  {
   "cell_type": "code",
   "execution_count": null,
   "metadata": {},
   "outputs": [],
   "source": [
    "import pandas as pd\n",
    "import numpy as np\n",
    "\n",
    "df = pd.DataFrame(datas, columns=columns)\n",
    "print(df.columns)\n",
    "df"
   ]
  },
  {
   "cell_type": "code",
   "execution_count": null,
   "metadata": {},
   "outputs": [],
   "source": [
    "import sys\n",
    "sys.path.append('./')\n",
    "\n",
    "\n",
    "from Matcher.Utils import filter_applicant, separate_groups\n",
    "from matplotlib import pyplot as plt\n",
    "\n",
    "df = filter_applicant(df)\n",
    "hetro_F, hetro_M, homo_F, homo_M = separate_groups(df)\n",
    "\n",
    "print(f\"Number of hetro_F: {len(hetro_F)}, Number of hetro_M: {len(hetro_M)}, Number of homo_F: {len(homo_F)}, Number of homo_M: {len(homo_M)}\")\n",
    "# Plot a pie chart for the distribution of applicants in each group\n",
    "group_sizes = [len(hetro_F), len(hetro_M), len(homo_F), len(homo_M)]\n",
    "group_labels = ['Hetro Female', 'Hetro Male', 'Homo Female', 'Homo Male']\n",
    "\n",
    "plt.figure(figsize=(8, 8))\n",
    "plt.pie(group_sizes, labels=group_labels, autopct='%1.1f%%', startangle=140)\n",
    "plt.title('Distribution of Applicants in Each Group')\n",
    "plt.show()"
   ]
  },
  {
   "cell_type": "code",
   "execution_count": null,
   "metadata": {},
   "outputs": [],
   "source": [
    "# Count the number of applicants in each school\n",
    "school_counts = df['school'].value_counts()\n",
    "\n",
    "# Plot the pie chart\n",
    "plt.figure(figsize=(10, 8))\n",
    "plt.pie(school_counts, labels=school_counts.index, autopct='%1.1f%%', startangle=140)\n",
    "plt.title('Distribution of Applicants by School')\n",
    "\n",
    "# Add the number of applicants to the legend\n",
    "legend_labels = [f'{school} ({count})' for school, count in zip(school_counts.index, school_counts)]\n",
    "plt.legend(legend_labels, loc='upper right')\n",
    "\n",
    "plt.show()"
   ]
  },
  {
   "cell_type": "code",
   "execution_count": null,
   "metadata": {},
   "outputs": [],
   "source": [
    "df['grade'].value_counts().plot(kind='bar', title='Histogram of Grades')"
   ]
  },
  {
   "cell_type": "code",
   "execution_count": null,
   "metadata": {},
   "outputs": [],
   "source": [
    "import matplotlib.pyplot as plt\n",
    "\n",
    "fig, axes = plt.subplots(2, 2, figsize=(15, 10))\n",
    "\n",
    "df['mbti_ei'].plot(kind='hist', bins=range(0, 100, 5), ax=axes[0, 0], title='Histogram of MBTI EI')\n",
    "axes[0, 0].set_xlabel('mbti_ei')\n",
    "axes[0, 0].set_ylabel('Frequency')\n",
    "axes[0, 0].text(0.95, 0.95, f'SD: {df[\"mbti_ei\"].std():.2f}\\nMedian: {df[\"mbti_ei\"].median():.2f}', transform=axes[0, 0].transAxes, ha='right', va='top')\n",
    "\n",
    "df['mbti_sn'].plot(kind='hist', bins=range(0, 100, 5), ax=axes[0, 1], title='Histogram of MBTI SN')\n",
    "axes[0, 1].set_xlabel('mbti_sn')\n",
    "axes[0, 1].set_ylabel('Frequency')\n",
    "axes[0, 1].text(0.95, 0.95, f'SD: {df[\"mbti_sn\"].std():.2f}\\nMedian: {df[\"mbti_sn\"].median():.2f}', transform=axes[0, 1].transAxes, ha='right', va='top')\n",
    "\n",
    "df['mbti_tf'].plot(kind='hist', bins=range(0, 100, 5), ax=axes[1, 0], title='Histogram of MBTI TF')\n",
    "axes[1, 0].set_xlabel('mbti_tf')\n",
    "axes[1, 0].set_ylabel('Frequency')\n",
    "axes[1, 0].text(0.95, 0.95, f'SD: {df[\"mbti_tf\"].std():.2f}\\nMedian: {df[\"mbti_tf\"].median():.2f}', transform=axes[1, 0].transAxes, ha='right', va='top')\n",
    "\n",
    "df['mbti_jp'].plot(kind='hist', bins=range(0, 100, 5), ax=axes[1, 1], title='Histogram of MBTI JP')\n",
    "axes[1, 1].set_xlabel('mbti_jp')\n",
    "axes[1, 1].set_ylabel('Frequency')\n",
    "axes[1, 1].text(0.95, 0.95, f'SD: {df[\"mbti_jp\"].std():.2f}\\nMedian: {df[\"mbti_jp\"].median():.2f}', transform=axes[1, 1].transAxes, ha='right', va='top')\n",
    "\n",
    "plt.tight_layout()\n",
    "plt.show()"
   ]
  },
  {
   "cell_type": "code",
   "execution_count": null,
   "metadata": {},
   "outputs": [],
   "source": [
    "fig, axes = plt.subplots(2, 2, figsize=(15, 10))\n",
    "\n",
    "df['preferred_mbti_ei'].value_counts().plot(kind='bar', ax=axes[0, 0], title='Histogram of Preferred MBTI EI')\n",
    "df['preferred_mbti_sn'].value_counts().plot(kind='bar', ax=axes[0, 1], title='Histogram of Preferred MBTI SN')\n",
    "df['preferred_mbti_tf'].value_counts().plot(kind='bar', ax=axes[1, 0], title='Histogram of Preferred MBTI TF')\n",
    "df['preferred_mbti_jp'].value_counts().plot(kind='bar', ax=axes[1, 1], title='Histogram of Preferred MBTI JP')\n",
    "\n",
    "plt.tight_layout()\n",
    "plt.show()"
   ]
  },
  {
   "cell_type": "code",
   "execution_count": null,
   "metadata": {},
   "outputs": [],
   "source": [
    "import matplotlib.pyplot as plt\n",
    "\n",
    "# Define the counts\n",
    "counts = [\n",
    "    ((df[['preferred_mbti_ei', 'preferred_mbti_sn', 'preferred_mbti_tf', 'preferred_mbti_jp']] == 'x').sum(axis=1) == i).sum()\n",
    "    for i in range(5)\n",
    "]\n",
    "\n",
    "# Define the labels\n",
    "labels = ['0 out of 4', '1 out of 4', '2 out of 4', '3 out of 4', '4 out of 4']\n",
    "\n",
    "# Plot the bar chart\n",
    "plt.figure(figsize=(10, 6))\n",
    "plt.bar(labels, counts, color='skyblue')\n",
    "plt.xlabel('Number of MBTI Preferences as \"x\"')\n",
    "plt.ylabel('Number of Persons')\n",
    "plt.title('Number of Persons with Different Counts of MBTI Preferences as \"x\"')\n",
    "plt.show()\n"
   ]
  },
  {
   "cell_type": "code",
   "execution_count": null,
   "metadata": {
    "vscode": {
     "languageId": "ruby"
    }
   },
   "outputs": [],
   "source": [
    "# Separate hobbies by gender\n",
    "hobbies_female = pd.concat([df[df['sex'] == 'F']['hobby1'], df[df['sex'] == 'F']['hobby2'], df[df['sex'] == 'F']['hobby3']])\n",
    "hobbies_male = pd.concat([df[df['sex'] == 'M']['hobby1'], df[df['sex'] == 'M']['hobby2'], df[df['sex'] == 'M']['hobby3']])\n",
    "\n",
    "# Count the occurrences of each hobby\n",
    "hobby_counts_female = hobbies_female.value_counts()\n",
    "hobby_counts_male = hobbies_male.value_counts()\n",
    "\n",
    "# Plot the bar chart\n",
    "fig, axes = plt.subplots(2, 1, figsize=(12, 12))\n",
    "\n",
    "hobby_counts_female.plot(kind='bar', color='skyblue', ax=axes[0])\n",
    "axes[0].set_xlabel('Hobbies')\n",
    "axes[0].set_ylabel('Number of Females')\n",
    "axes[0].set_title('Total Number of Hobbies Chosen by Females')\n",
    "\n",
    "hobby_counts_male.plot(kind='bar', color='lightgreen', ax=axes[1])\n",
    "axes[1].set_xlabel('Hobbies')\n",
    "axes[1].set_ylabel('Number of Males')\n",
    "axes[1].set_title('Total Number of Hobbies Chosen by Males')\n",
    "\n",
    "plt.tight_layout()\n",
    "plt.show()"
   ]
  },
  {
   "cell_type": "code",
   "execution_count": null,
   "metadata": {},
   "outputs": [],
   "source": [
    "QUESTIONS = [\"travel_destination\", \"superpower\", \"use_of_money\", \"family\", \"lifestyle\"]\n",
    "\n",
    "fig, axes = plt.subplots(len(QUESTIONS), 1, figsize=(12, 20))\n",
    "\n",
    "for i, question in enumerate(QUESTIONS):\n",
    "    df[question].value_counts().plot(kind='bar', ax=axes[i], title=f'Number of Choices for {question}')\n",
    "    axes[i].set_xlabel(question)\n",
    "    axes[i].set_ylabel('Count')\n",
    "\n",
    "plt.tight_layout()\n",
    "plt.show()"
   ]
  },
  {
   "cell_type": "code",
   "execution_count": null,
   "metadata": {},
   "outputs": [],
   "source": [
    "# Convert 'created_at' to datetime format and localize to timezone +8\n",
    "df['created_at'] = pd.to_datetime(df['created_at']).dt.tz_localize('UTC').dt.tz_convert('Asia/Shanghai')\n",
    "\n",
    "# Plot the line graph for creation time\n",
    "df.set_index('created_at').resample('10T').count()['id'].plot(figsize=(12, 6))\n",
    "\n",
    "plt.xlabel('Creation Time')\n",
    "plt.ylabel('Frequency')\n",
    "plt.title('Line Graph of Creation Time')\n",
    "plt.show()\n"
   ]
  },
  {
   "cell_type": "code",
   "execution_count": null,
   "metadata": {},
   "outputs": [],
   "source": []
  }
 ],
 "metadata": {
  "kernelspec": {
   "display_name": "py3",
   "language": "python",
   "name": "python3"
  },
  "language_info": {
   "codemirror_mode": {
    "name": "ipython",
    "version": 3
   },
   "file_extension": ".py",
   "mimetype": "text/x-python",
   "name": "python",
   "nbconvert_exporter": "python",
   "pygments_lexer": "ipython3",
   "version": "3.10.11"
  }
 },
 "nbformat": 4,
 "nbformat_minor": 2
}
